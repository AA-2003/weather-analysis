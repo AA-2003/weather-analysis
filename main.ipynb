{
 "cells": [
  {
   "cell_type": "code",
   "execution_count": 1,
   "metadata": {},
   "outputs": [],
   "source": [
    "import requests\n",
    "import pandas as pd\n",
    "import geopandas as gpd\n",
    "import matplotlib.pyplot as plt\n",
    "from const import API_key"
   ]
  },
  {
   "cell_type": "code",
   "execution_count": 2,
   "metadata": {},
   "outputs": [],
   "source": [
    "url = \"http://api.openweathermap.org/data/2.5/weather\"\n",
    "params = {\n",
    "    \"appid\": API_key,\n",
    "    \"units\": \"metric\"  \n",
    "}"
   ]
  },
  {
   "cell_type": "code",
   "execution_count": 3,
   "metadata": {},
   "outputs": [],
   "source": [
    "center_cities = [\n",
    "    \"Tehran\",      # Tehran Province\n",
    "    \"Mashhad\",     # Razavi Khorasan Province\n",
    "    \"Isfahan\",     # Isfahan Province\n",
    "    \"Tabriz\",      # East Azerbaijan Province\n",
    "    \"Shiraz\",      # Fars Province\n",
    "    \"Karaj\",       # Alborz Province\n",
    "    \"Ahvaz\",       # Khuzestan Province\n",
    "    \"Qom\",         # Qom Province\n",
    "    \"Kermanshah\",  # Kermanshah Province\n",
    "    \"Urmia\",       # West Azerbaijan Province\n",
    "    \"Zahedan\",     # Sistan and Baluchestan Province\n",
    "    \"Kerman\",      # Kerman Province\n",
    "    \"Rasht\",       # Gilan Province\n",
    "    \"Hamedan\",     # Hamadan Province\n",
    "    \"Sanandaj\",    # Kurdistan Province\n",
    "    \"Bandar Abbas\",# Hormozgan Province\n",
    "    \"Arak\",        # Markazi Province\n",
    "    \"Ardabil\",     # Ardabil Province\n",
    "    \"Yazd\",        # Yazd Province\n",
    "    \"Qazvin\",      # Qazvin Province\n",
    "    \"Zanjan\",      # Zanjan Province\n",
    "    \"Khorramabad\", # Lorestan Province\n",
    "    \"Sari\",        # Mazandaran Province\n",
    "    \"Bojnord\",     # North Khorasan Province\n",
    "    \"Birjand\",     # South Khorasan Province\n",
    "    \"Ilam\",        # Ilam Province\n",
    "    \"Semnan\",      # Semnan Province\n",
    "    \"Gorgan\",      # Golestan Province\n",
    "    \"Bushehr\",     # Bushehr Province\n",
    "    \"Yasuj\",       # Kohgiluyeh and Boyer-Ahmad Province\n",
    "    \"Shahr-e Kord\"   # Chaharmahal and Bakhtiari Province\n",
    "]"
   ]
  },
  {
   "cell_type": "code",
   "execution_count": 4,
   "metadata": {},
   "outputs": [
    {
     "name": "stdout",
     "output_type": "stream",
     "text": [
      "{'coord': {'lon': 51.4215, 'lat': 35.6944}, 'weather': [{'id': 801, 'main': 'Clouds', 'description': 'few clouds', 'icon': '02n'}], 'base': 'stations', 'main': {'temp': 2.62, 'feels_like': 0.53, 'temp_min': 2.62, 'temp_max': 2.99, 'pressure': 1013, 'humidity': 69, 'sea_level': 1013, 'grnd_level': 858}, 'visibility': 10000, 'wind': {'speed': 2.06, 'deg': 300}, 'clouds': {'all': 20}, 'dt': 1737315407, 'sys': {'type': 2, 'id': 47737, 'country': 'IR', 'sunrise': 1737258122, 'sunset': 1737294456}, 'timezone': 12600, 'id': 112931, 'name': 'Tehran', 'cod': 200}\n",
      "{'coord': {'lon': 59.6062, 'lat': 36.297}, 'weather': [{'id': 800, 'main': 'Clear', 'description': 'clear sky', 'icon': '01n'}], 'base': 'stations', 'main': {'temp': 5.08, 'feels_like': 5.08, 'temp_min': 5.08, 'temp_max': 5.08, 'pressure': 1015, 'humidity': 65, 'sea_level': 1015, 'grnd_level': 885}, 'visibility': 10000, 'wind': {'speed': 0, 'deg': 0}, 'clouds': {'all': 0}, 'dt': 1737314852, 'sys': {'type': 1, 'id': 7485, 'country': 'IR', 'sunrise': 1737256241, 'sunset': 1737292408}, 'timezone': 12600, 'id': 124665, 'name': 'Mashhad', 'cod': 200}\n",
      "{'coord': {'lon': 51.6776, 'lat': 32.6572}, 'weather': [{'id': 800, 'main': 'Clear', 'description': 'clear sky', 'icon': '01n'}], 'base': 'stations', 'main': {'temp': 0.8, 'feels_like': -2.67, 'temp_min': 0.8, 'temp_max': 0.8, 'pressure': 1014, 'humidity': 41, 'sea_level': 1014, 'grnd_level': 834}, 'visibility': 10000, 'wind': {'speed': 3.15, 'deg': 253, 'gust': 4.93}, 'clouds': {'all': 0}, 'dt': 1737315501, 'sys': {'type': 1, 'id': 7460, 'country': 'IR', 'sunrise': 1737257665, 'sunset': 1737294791}, 'timezone': 12600, 'id': 418863, 'name': 'Isfahan', 'cod': 200}\n",
      "{'coord': {'lon': 46.2919, 'lat': 38.08}, 'weather': [{'id': 803, 'main': 'Clouds', 'description': 'broken clouds', 'icon': '04n'}], 'base': 'stations', 'main': {'temp': 0.7, 'feels_like': 0.7, 'temp_min': 0.7, 'temp_max': 0.7, 'pressure': 1012, 'humidity': 51, 'sea_level': 1012, 'grnd_level': 838}, 'visibility': 10000, 'wind': {'speed': 0, 'deg': 0}, 'clouds': {'all': 75}, 'dt': 1737315501, 'sys': {'type': 1, 'id': 7509, 'country': 'IR', 'sunrise': 1737259688, 'sunset': 1737295353}, 'timezone': 12600, 'id': 113646, 'name': 'Tabriz', 'cod': 200}\n",
      "{'coord': {'lon': 52.5388, 'lat': 29.6036}, 'weather': [{'id': 800, 'main': 'Clear', 'description': 'clear sky', 'icon': '01n'}], 'base': 'stations', 'main': {'temp': 1.69, 'feels_like': 1.69, 'temp_min': 1.69, 'temp_max': 1.69, 'pressure': 1017, 'humidity': 55, 'sea_level': 1017, 'grnd_level': 822}, 'visibility': 10000, 'wind': {'speed': 0, 'deg': 0}, 'clouds': {'all': 0}, 'dt': 1737315502, 'sys': {'type': 1, 'id': 7500, 'country': 'IR', 'sunrise': 1737257087, 'sunset': 1737294955}, 'timezone': 12600, 'id': 115019, 'name': 'Shiraz', 'cod': 200}\n",
      "{'coord': {'lon': 51.0103, 'lat': 35.8355}, 'weather': [{'id': 721, 'main': 'Haze', 'description': 'haze', 'icon': '50n'}], 'base': 'stations', 'main': {'temp': 0.88, 'feels_like': 0.88, 'temp_min': 0.88, 'temp_max': 0.88, 'pressure': 1014, 'humidity': 80, 'sea_level': 1014, 'grnd_level': 845}, 'visibility': 5000, 'wind': {'speed': 0, 'deg': 0}, 'clouds': {'all': 40}, 'dt': 1737315277, 'sys': {'type': 1, 'id': 7475, 'country': 'IR', 'sunrise': 1737258240, 'sunset': 1737294535}, 'timezone': 12600, 'id': 128747, 'name': 'Karaj', 'cod': 200}\n",
      "{'coord': {'lon': 48.6693, 'lat': 31.3203}, 'weather': [{'id': 800, 'main': 'Clear', 'description': 'clear sky', 'icon': '01n'}], 'base': 'stations', 'main': {'temp': 8.97, 'feels_like': 8.97, 'temp_min': 8.97, 'temp_max': 8.97, 'pressure': 1018, 'humidity': 76, 'sea_level': 1018, 'grnd_level': 1016}, 'visibility': 6000, 'wind': {'speed': 0, 'deg': 0}, 'clouds': {'all': 1}, 'dt': 1737315350, 'sys': {'type': 1, 'id': 7451, 'country': 'IR', 'sunrise': 1737258221, 'sunset': 1737295679}, 'timezone': 12600, 'id': 144448, 'name': 'Ahvāz', 'cod': 200}\n",
      "{'coord': {'lon': 50.8764, 'lat': 34.6401}, 'weather': [{'id': 800, 'main': 'Clear', 'description': 'clear sky', 'icon': '01n'}], 'base': 'stations', 'main': {'temp': 6.71, 'feels_like': 5.21, 'temp_min': 6.71, 'temp_max': 6.71, 'pressure': 1013, 'humidity': 51, 'sea_level': 1013, 'grnd_level': 909}, 'visibility': 10000, 'wind': {'speed': 2.16, 'deg': 254, 'gust': 3.2}, 'clouds': {'all': 6}, 'dt': 1737315269, 'sys': {'country': 'IR', 'sunrise': 1737258112, 'sunset': 1737294728}, 'timezone': 12600, 'id': 119208, 'name': 'Qom', 'cod': 200}\n",
      "{'coord': {'lon': 47.065, 'lat': 34.3142}, 'weather': [{'id': 803, 'main': 'Clouds', 'description': 'broken clouds', 'icon': '04n'}], 'base': 'stations', 'main': {'temp': 4.5, 'feels_like': 2.72, 'temp_min': 4.5, 'temp_max': 4.5, 'pressure': 1018, 'humidity': 45, 'sea_level': 1018, 'grnd_level': 849}, 'visibility': 10000, 'wind': {'speed': 2.06, 'deg': 300}, 'clouds': {'all': 75}, 'dt': 1737315503, 'sys': {'type': 1, 'id': 7455, 'country': 'IR', 'sunrise': 1737258984, 'sunset': 1737295686}, 'timezone': 12600, 'id': 128226, 'name': 'Kermanshah', 'cod': 200}\n",
      "{'coord': {'lon': 45.0761, 'lat': 37.5527}, 'weather': [{'id': 803, 'main': 'Clouds', 'description': 'broken clouds', 'icon': '04n'}], 'base': 'stations', 'main': {'temp': 0.75, 'feels_like': -1.65, 'temp_min': 0.75, 'temp_max': 0.75, 'pressure': 1013, 'humidity': 47, 'sea_level': 1013, 'grnd_level': 850}, 'visibility': 10000, 'wind': {'speed': 2.06, 'deg': 30}, 'clouds': {'all': 75}, 'dt': 1737315424, 'sys': {'type': 1, 'id': 7507, 'country': 'IR', 'sunrise': 1737259904, 'sunset': 1737295721}, 'timezone': 12600, 'id': 121801, 'name': 'Urmia', 'cod': 200}\n",
      "{'coord': {'lon': 60.8629, 'lat': 29.4963}, 'weather': [{'id': 800, 'main': 'Clear', 'description': 'clear sky', 'icon': '01n'}], 'base': 'stations', 'main': {'temp': 4.95, 'feels_like': 2.38, 'temp_min': 4.95, 'temp_max': 4.95, 'pressure': 1016, 'humidity': 93, 'sea_level': 1016, 'grnd_level': 840}, 'visibility': 10000, 'wind': {'speed': 3.09, 'deg': 140}, 'clouds': {'all': 0}, 'dt': 1737315441, 'sys': {'type': 1, 'id': 7514, 'country': 'IR', 'sunrise': 1737255077, 'sunset': 1737292968}, 'timezone': 12600, 'id': 1159301, 'name': 'Zahedan', 'cod': 200}\n",
      "{'coord': {'lon': 57.0788, 'lat': 30.2832}, 'weather': [{'id': 801, 'main': 'Clouds', 'description': 'few clouds', 'icon': '02n'}], 'base': 'stations', 'main': {'temp': 0.92, 'feels_like': -2.47, 'temp_min': 0.92, 'temp_max': 0.92, 'pressure': 1013, 'humidity': 64, 'sea_level': 1013, 'grnd_level': 810}, 'visibility': 10000, 'wind': {'speed': 3.09, 'deg': 140}, 'clouds': {'all': 20}, 'dt': 1737315364, 'sys': {'type': 1, 'id': 7478, 'country': 'IR', 'sunrise': 1737256078, 'sunset': 1737293784}, 'timezone': 12600, 'id': 128234, 'name': 'Kerman', 'cod': 200}\n",
      "{'coord': {'lon': 49.5832, 'lat': 37.2808}, 'weather': [{'id': 804, 'main': 'Clouds', 'description': 'overcast clouds', 'icon': '04n'}], 'base': 'stations', 'main': {'temp': 9.81, 'feels_like': 9.14, 'temp_min': 9.81, 'temp_max': 9.81, 'pressure': 1009, 'humidity': 61, 'sea_level': 1009, 'grnd_level': 1008}, 'visibility': 10000, 'wind': {'speed': 1.8, 'deg': 144, 'gust': 1.57}, 'clouds': {'all': 93}, 'dt': 1737315364, 'sys': {'country': 'IR', 'sunrise': 1737258784, 'sunset': 1737294677}, 'timezone': 12600, 'id': 118743, 'name': 'Rasht', 'cod': 200}\n",
      "{'coord': {'lon': 48.5148, 'lat': 34.7983}, 'weather': [{'id': 800, 'main': 'Clear', 'description': 'clear sky', 'icon': '01n'}], 'base': 'stations', 'main': {'temp': -3.51, 'feels_like': -6.63, 'temp_min': -3.51, 'temp_max': -3.51, 'pressure': 1016, 'humidity': 80, 'sea_level': 1016, 'grnd_level': 773}, 'visibility': 10000, 'wind': {'speed': 2.06, 'deg': 120}, 'clouds': {'all': 0}, 'dt': 1737315505, 'sys': {'type': 1, 'id': 7461, 'country': 'IR', 'sunrise': 1737258700, 'sunset': 1737295274}, 'timezone': 12600, 'id': 132144, 'name': 'Hamedan', 'cod': 200}\n",
      "{'coord': {'lon': 46.9923, 'lat': 35.3144}, 'weather': [{'id': 800, 'main': 'Clear', 'description': 'clear sky', 'icon': '01n'}], 'base': 'stations', 'main': {'temp': 0.01, 'feels_like': 0.01, 'temp_min': 0.01, 'temp_max': 0.01, 'pressure': 1016, 'humidity': 60, 'sea_level': 1016, 'grnd_level': 821}, 'visibility': 10000, 'wind': {'speed': 0, 'deg': 0}, 'clouds': {'all': 0}, 'dt': 1737315505, 'sys': {'type': 1, 'id': 7457, 'country': 'IR', 'sunrise': 1737259134, 'sunset': 1737295571}, 'timezone': 12600, 'id': 117574, 'name': 'Sanandij', 'cod': 200}\n",
      "{'coord': {'lon': 56.2808, 'lat': 27.1865}, 'weather': [{'id': 800, 'main': 'Clear', 'description': 'clear sky', 'icon': '01n'}], 'base': 'stations', 'main': {'temp': 15.99, 'feels_like': 15.52, 'temp_min': 15.99, 'temp_max': 15.99, 'pressure': 1015, 'humidity': 72, 'sea_level': 1015, 'grnd_level': 1008}, 'visibility': 7000, 'wind': {'speed': 3.09, 'deg': 340}, 'clouds': {'all': 0}, 'dt': 1737315505, 'sys': {'type': 1, 'id': 7477, 'country': 'IR', 'sunrise': 1737255912, 'sunset': 1737294333}, 'timezone': 12600, 'id': 141681, 'name': 'Cambarão', 'cod': 200}\n",
      "{'coord': {'lon': 49.6892, 'lat': 34.0917}, 'weather': [{'id': 800, 'main': 'Clear', 'description': 'clear sky', 'icon': '01n'}], 'base': 'stations', 'main': {'temp': 0.35, 'feels_like': -2.76, 'temp_min': 0.35, 'temp_max': 0.35, 'pressure': 1015, 'humidity': 66, 'sea_level': 1015, 'grnd_level': 801}, 'visibility': 10000, 'wind': {'speed': 2.65, 'deg': 226, 'gust': 3.57}, 'clouds': {'all': 0}, 'dt': 1737315506, 'sys': {'country': 'IR', 'sunrise': 1737258325, 'sunset': 1737295085}, 'timezone': 12600, 'id': 143127, 'name': 'Arak', 'cod': 200}\n",
      "{'coord': {'lon': 48.2933, 'lat': 38.2498}, 'weather': [{'id': 803, 'main': 'Clouds', 'description': 'broken clouds', 'icon': '04n'}], 'base': 'stations', 'main': {'temp': 0.75, 'feels_like': -3.44, 'temp_min': 0.75, 'temp_max': 0.75, 'pressure': 1011, 'humidity': 51, 'sea_level': 1011, 'grnd_level': 854}, 'visibility': 10000, 'wind': {'speed': 4.12, 'deg': 200}, 'clouds': {'all': 75}, 'dt': 1737315506, 'sys': {'type': 1, 'id': 7508, 'country': 'IR', 'sunrise': 1737259232, 'sunset': 1737294848}, 'timezone': 12600, 'id': 143083, 'name': 'Ardabil', 'cod': 200}\n",
      "{'coord': {'lon': 54.3675, 'lat': 31.8972}, 'weather': [{'id': 801, 'main': 'Clouds', 'description': 'few clouds', 'icon': '02n'}], 'base': 'stations', 'main': {'temp': 6.06, 'feels_like': 3.72, 'temp_min': 6.06, 'temp_max': 6.06, 'pressure': 1013, 'humidity': 52, 'sea_level': 1013, 'grnd_level': 864}, 'visibility': 10000, 'wind': {'speed': 3.09, 'deg': 230}, 'clouds': {'all': 20}, 'dt': 1737315506, 'sys': {'type': 1, 'id': 7511, 'country': 'IR', 'sunrise': 1737256924, 'sunset': 1737294239}, 'timezone': 12600, 'id': 111822, 'name': 'Yazd', 'cod': 200}\n",
      "{'coord': {'lon': 50.0049, 'lat': 36.2797}, 'weather': [{'id': 800, 'main': 'Clear', 'description': 'clear sky', 'icon': '01n'}], 'base': 'stations', 'main': {'temp': 0.79, 'feels_like': 0.79, 'temp_min': 0.79, 'temp_max': 0.79, 'pressure': 1013, 'humidity': 75, 'sea_level': 1013, 'grnd_level': 859}, 'visibility': 10000, 'wind': {'speed': 0, 'deg': 0}, 'clouds': {'all': 0}, 'dt': 1737315506, 'sys': {'type': 1, 'id': 7465, 'country': 'IR', 'sunrise': 1737258542, 'sunset': 1737294716}, 'timezone': 12600, 'id': 119505, 'name': 'Qazvin', 'cod': 200}\n",
      "{'coord': {'lon': 48.4787, 'lat': 36.6736}, 'weather': [{'id': 804, 'main': 'Clouds', 'description': 'overcast clouds', 'icon': '04n'}], 'base': 'stations', 'main': {'temp': 0.13, 'feels_like': -5.1, 'temp_min': 0.13, 'temp_max': 0.13, 'pressure': 1014, 'humidity': 66, 'sea_level': 1014, 'grnd_level': 800}, 'visibility': 10000, 'wind': {'speed': 5.63, 'deg': 220, 'gust': 11.11}, 'clouds': {'all': 88}, 'dt': 1737315487, 'sys': {'country': 'IR', 'sunrise': 1737258963, 'sunset': 1737295028}, 'timezone': 12600, 'id': 111453, 'name': 'Zanjān', 'cod': 200}\n",
      "{'coord': {'lon': 48.3558, 'lat': 33.4878}, 'weather': [{'id': 800, 'main': 'Clear', 'description': 'clear sky', 'icon': '01n'}], 'base': 'stations', 'main': {'temp': 0.79, 'feels_like': -1.61, 'temp_min': 0.79, 'temp_max': 0.79, 'pressure': 1019, 'humidity': 64, 'sea_level': 1019, 'grnd_level': 844}, 'visibility': 10000, 'wind': {'speed': 2.06, 'deg': 110}, 'clouds': {'all': 0}, 'dt': 1737315507, 'sys': {'type': 1, 'id': 7456, 'country': 'IR', 'sunrise': 1737258567, 'sunset': 1737295483}, 'timezone': 12600, 'id': 127349, 'name': 'Khorramabad', 'cod': 200}\n",
      "{'coord': {'lon': 53.0601, 'lat': 36.5633}, 'weather': [{'id': 800, 'main': 'Clear', 'description': 'clear sky', 'icon': '01n'}], 'base': 'stations', 'main': {'temp': 3.77, 'feels_like': 1.87, 'temp_min': 3.77, 'temp_max': 3.77, 'pressure': 1011, 'humidity': 93, 'sea_level': 1011, 'grnd_level': 997}, 'visibility': 10000, 'wind': {'speed': 2.06, 'deg': 180}, 'clouds': {'all': 0}, 'dt': 1737315507, 'sys': {'type': 1, 'id': 7498, 'country': 'IR', 'sunrise': 1737257849, 'sunset': 1737293943}, 'timezone': 12600, 'id': 116996, 'name': 'Sari', 'cod': 200}\n",
      "{'coord': {'lon': 57.332, 'lat': 37.476}, 'weather': [{'id': 803, 'main': 'Clouds', 'description': 'broken clouds', 'icon': '04n'}], 'base': 'stations', 'main': {'temp': 3.95, 'feels_like': 2.08, 'temp_min': 3.95, 'temp_max': 3.95, 'pressure': 1015, 'humidity': 65, 'sea_level': 1015, 'grnd_level': 858}, 'visibility': 10000, 'wind': {'speed': 2.06, 'deg': 240}, 'clouds': {'all': 75}, 'dt': 1737315508, 'sys': {'type': 1, 'id': 7488, 'country': 'IR', 'sunrise': 1737256952, 'sunset': 1737292788}, 'timezone': 12600, 'id': 140380, 'name': 'Bojnord', 'cod': 200}\n",
      "{'coord': {'lon': 59.2211, 'lat': 32.8663}, 'weather': [{'id': 800, 'main': 'Clear', 'description': 'clear sky', 'icon': '01n'}], 'base': 'stations', 'main': {'temp': 2.26, 'feels_like': -2.16, 'temp_min': 2.26, 'temp_max': 2.26, 'pressure': 1017, 'humidity': 75, 'sea_level': 1017, 'grnd_level': 813}, 'visibility': 10000, 'wind': {'speed': 5.14, 'deg': 120}, 'clouds': {'all': 0}, 'dt': 1737315308, 'sys': {'type': 1, 'id': 7481, 'country': 'IR', 'sunrise': 1737255881, 'sunset': 1737292953}, 'timezone': 12600, 'id': 140463, 'name': 'Birjand', 'cod': 200}\n",
      "{'coord': {'lon': 87.9167, 'lat': 26.9167}, 'weather': [{'id': 800, 'main': 'Clear', 'description': 'clear sky', 'icon': '01n'}], 'base': 'stations', 'main': {'temp': 11.96, 'feels_like': 11.07, 'temp_min': 11.96, 'temp_max': 11.96, 'pressure': 1014, 'humidity': 71, 'sea_level': 1014, 'grnd_level': 863}, 'visibility': 10000, 'wind': {'speed': 2.5, 'deg': 18, 'gust': 1.84}, 'clouds': {'all': 1}, 'dt': 1737315508, 'sys': {'country': 'NP', 'sunrise': 1737334679, 'sunset': 1737373214}, 'timezone': 20700, 'id': 1283334, 'name': 'Ilām', 'cod': 200}\n",
      "{'coord': {'lon': 53.3971, 'lat': 35.5729}, 'weather': [{'id': 801, 'main': 'Clouds', 'description': 'few clouds', 'icon': '02n'}], 'base': 'stations', 'main': {'temp': 2.05, 'feels_like': 0.5, 'temp_min': 2.05, 'temp_max': 2.05, 'pressure': 1015, 'humidity': 74, 'sea_level': 1015, 'grnd_level': 867}, 'visibility': 10000, 'wind': {'speed': 1.56, 'deg': 70, 'gust': 1.49}, 'clouds': {'all': 12}, 'dt': 1737315509, 'sys': {'country': 'IR', 'sunrise': 1737257632, 'sunset': 1737293998}, 'timezone': 12600, 'id': 116402, 'name': 'Semnan', 'cod': 200}\n",
      "{'coord': {'lon': 54.4348, 'lat': 36.8387}, 'weather': [{'id': 800, 'main': 'Clear', 'description': 'clear sky', 'icon': '01n'}], 'base': 'stations', 'main': {'temp': 2.98, 'feels_like': 2.98, 'temp_min': 2.98, 'temp_max': 2.98, 'pressure': 1012, 'humidity': 93, 'sea_level': 1012, 'grnd_level': 956}, 'visibility': 10000, 'wind': {'speed': 0, 'deg': 0}, 'clouds': {'all': 0}, 'dt': 1737315509, 'sys': {'type': 1, 'id': 7494, 'country': 'IR', 'sunrise': 1737257557, 'sunset': 1737293574}, 'timezone': 12600, 'id': 132892, 'name': 'Gorgan', 'cod': 200}\n",
      "{'coord': {'lon': 50.8385, 'lat': 28.9684}, 'weather': [{'id': 800, 'main': 'Clear', 'description': 'clear sky', 'icon': '01n'}], 'base': 'stations', 'main': {'temp': 16.05, 'feels_like': 15.04, 'temp_min': 16.05, 'temp_max': 16.05, 'pressure': 1018, 'humidity': 51, 'sea_level': 1018, 'grnd_level': 1019}, 'visibility': 10000, 'wind': {'speed': 3.09, 'deg': 290}, 'clouds': {'all': 0}, 'dt': 1737315509, 'sys': {'type': 1, 'id': 7444, 'country': 'IR', 'sunrise': 1737257421, 'sunset': 1737295437}, 'timezone': 12600, 'id': 139817, 'name': 'Bushehr', 'cod': 200}\n",
      "{'coord': {'lon': 51.588, 'lat': 30.6682}, 'weather': [{'id': 800, 'main': 'Clear', 'description': 'clear sky', 'icon': '01n'}], 'base': 'stations', 'main': {'temp': 0.75, 'feels_like': -1.65, 'temp_min': 0.75, 'temp_max': 0.75, 'pressure': 1020, 'humidity': 75, 'sea_level': 1020, 'grnd_level': 767}, 'visibility': 10000, 'wind': {'speed': 2.06, 'deg': 90}, 'clouds': {'all': 0}, 'dt': 1737315509, 'sys': {'type': 1, 'id': 7503, 'country': 'IR', 'sunrise': 1737257442, 'sunset': 1737295057}, 'timezone': 12600, 'id': 66093, 'name': 'Yasuj', 'cod': 200}\n",
      "{'coord': {'lon': 50.8644, 'lat': 32.3256}, 'weather': [{'id': 801, 'main': 'Clouds', 'description': 'few clouds', 'icon': '02n'}], 'base': 'stations', 'main': {'temp': -4.13, 'feels_like': -4.13, 'temp_min': -4.13, 'temp_max': -4.13, 'pressure': 1018, 'humidity': 54, 'sea_level': 1018, 'grnd_level': 777}, 'visibility': 10000, 'wind': {'speed': 1.03, 'deg': 40}, 'clouds': {'all': 20}, 'dt': 1737315510, 'sys': {'type': 1, 'id': 7467, 'country': 'IR', 'sunrise': 1737257818, 'sunset': 1737295028}, 'timezone': 12600, 'id': 115770, 'name': 'Shahr-e Kord', 'cod': 200}\n"
     ]
    }
   ],
   "source": [
    "weather_data = {}\n",
    "\n",
    "for city in center_cities:\n",
    "    params['q'] = city\n",
    "    response = requests.get(url, params=params)\n",
    "    data = response.json()\n",
    "    print(data)\n",
    "    if response.status_code == 200:\n",
    "        weather_data[city] = {\n",
    "           'temp': data['main']['temp'],\n",
    "            'humidity' : data['main']['humidity'],\n",
    "            'description' : data['weather'][0]['description']\n",
    "        }\n",
    "    else:\n",
    "        print(f\"Failed to fetch data for {city}\")\n",
    "\n"
   ]
  }
 ],
 "metadata": {
  "kernelspec": {
   "display_name": "env",
   "language": "python",
   "name": "python3"
  },
  "language_info": {
   "codemirror_mode": {
    "name": "ipython",
    "version": 3
   },
   "file_extension": ".py",
   "mimetype": "text/x-python",
   "name": "python",
   "nbconvert_exporter": "python",
   "pygments_lexer": "ipython3",
   "version": "3.9.0"
  }
 },
 "nbformat": 4,
 "nbformat_minor": 2
}
